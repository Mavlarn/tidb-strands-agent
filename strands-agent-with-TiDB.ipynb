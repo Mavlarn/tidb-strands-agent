{
 "cells": [
  {
   "cell_type": "markdown",
   "id": "2eff0cbb-ac53-4569-872a-f2faca467e2d",
   "metadata": {},
   "source": [
    "# 使用Strands Agent访问TiDB实现智能分析"
   ]
  },
  {
   "cell_type": "markdown",
   "id": "d2a5afb8-e6d6-4eb9-a937-44a6fd197fc8",
   "metadata": {},
   "source": [
    "## 1. 安装Python依赖"
   ]
  },
  {
   "cell_type": "code",
   "execution_count": 5,
   "id": "e07c5d7c-f997-4d21-bbcb-906fde305abb",
   "metadata": {},
   "outputs": [],
   "source": [
    "!pip install -q python-dotenv==1.0.0 strands-agents[openai]==1.0.0 strands-agents>=1.0.0 strands-agents-tools>=0.2.0 pytidb==0.0.9 litellm==1.74.9.post1"
   ]
  },
  {
   "cell_type": "markdown",
   "id": "6235e044-4009-4d15-a393-8ab6c65579c5",
   "metadata": {},
   "source": [
    "## 2. 向量化数据\n",
    "\n",
    "在之前的初始化数据库时，已经创建了几个表，以及初始化了订单、商品等表的数据，但是对于订单记录和客服记录，需要在插入数据的同时，将文本内容进行向量化，在保存到数据库表中。"
   ]
  },
  {
   "cell_type": "markdown",
   "id": "e8cf18a5-6540-452f-8095-0ea430ef8636",
   "metadata": {},
   "source": [
    "将商品评论数据保存到csv文件中："
   ]
  },
  {
   "cell_type": "code",
   "execution_count": 2,
   "id": "bbf46a07-b6c2-4daf-a518-827251210485",
   "metadata": {},
   "outputs": [
    {
     "name": "stdout",
     "output_type": "stream",
     "text": [
      "Overwriting product_reviews.csv\n"
     ]
    }
   ],
   "source": [
    "%%writefile product_reviews.csv\n",
    "review_id,order_id,product_id,customer_id,rating,product_name,review_content,review_content_vec,review_date,is_verified_purchase\n",
    "\"R001\",\"O001\",\"P001\",\"C001\",\"5\",\"品牌:TechZen 类型:智能手机 商品名:ZenPhone Pro 256GB\",\"手机很棒，拍照效果非常好，系统流畅，值得购买！\",\"\",\"2024-01-20 10:00:00\",TRUE\n",
    "\"R002\",\"O006\",\"P004\",\"C006\",\"4\",\"品牌:DigitalWave 类型:平板电脑 商品名:SmartPad Elite\",\"平板屏幕清晰，性能不错，就是价格有点贵\",\"\",\"2024-01-30 14:30:00\",TRUE\n",
    "\"R003\",\"O008\",\"P008\",\"C001\",\"5\",\"品牌:ProTech 类型:笔记本电脑 商品名:BusinessLaptop X1\",\"笔记本性能强劲，屏幕显示效果很好，办公游戏都很棒\",\"\",\"2024-02-05 09:15:00\",TRUE\n",
    "\"R004\",\"O003\",\"P005\",\"C003\",\"2\",\"品牌:TechZen 类型:蓝牙耳机 商品名:SoundBuds Pro 2\",\"耳机连接不稳定，经常断连，音质也不如宣传的那么好，准备退货\",\"\",\"2024-01-25 16:20:00\",TRUE\n",
    "\"R005\",\"O007\",\"P006\",\"C007\",\"1\",\"品牌:AudioMax 类型:蓝牙耳机 商品名:AudioMax WX-2000\",\"耳机质量有问题，用了两天就出现杂音，非常失望\",\"\",\"2024-02-02 11:45:00\",TRUE\n",
    "\"R006\",\"O010\",\"P005\",\"C009\",\"5\",\"品牌:TechZen 类型:蓝牙耳机 商品名:SoundBuds Pro 2\",\"SoundBuds音质很好，佩戴舒适，降噪效果不错，非常满意\",\"\",\"2024-02-10 14:20:00\",TRUE\n",
    "\"R007\",\"O012\",\"P007\",\"C011\",\"4\",\"品牌:TechZen 类型:笔记本电脑 商品名:PowerBook Pro 14寸\",\"PowerBook性能强大，做设计很流畅，就是发热有点大\",\"\",\"2024-02-15 16:30:00\",TRUE\n",
    "\"R008\",\"O014\",\"P006\",\"C013\",\"5\",\"品牌:AudioMax 类型:蓝牙耳机 商品名:AudioMax WX-2000\",\"AudioMax耳机音质一流，降噪效果很棒，强烈推荐！\",\"\",\"2024-02-20 11:15:00\",TRUE\n",
    "\"R009\",\"O009\",\"P001\",\"C008\",\"3\",\"品牌:TechZen 类型:智能手机 商品名:ZenPhone Pro 256GB\",\"手机整体不错，但电池续航一般，一天需要充两次电\",\"\",\"2024-02-08 13:45:00\",TRUE\n",
    "\"R010\",\"O011\",\"P002\",\"C010\",\"2\",\"品牌:FlashTech 类型:智能手机 商品名:FlashMobile Ultra 512GB\",\"FlashMobile手机系统有时卡顿，相机效果也不如宣传的好\",\"\",\"2024-02-12 10:30:00\",TRUE\n",
    "\"R011\",\"O013\",\"P003\",\"C012\",\"4\",\"品牌:TechZen 类型:平板电脑 商品名:TabletMax Pro 12.9寸\",\"TabletMax屏幕质量很好，适合看视频和办公，就是存储空间有点小\",\"\",\"2024-02-17 15:20:00\",TRUE\n",
    "\"R012\",\"O015\",\"P008\",\"C014\",\"1\",\"品牌:ProTech 类型:笔记本电脑 商品名:BusinessLaptop X1\",\"笔记本键盘有问题，多个按键失灵，影响正常使用\",\"\",\"2024-02-22 09:40:00\",TRUE"
   ]
  },
  {
   "cell_type": "markdown",
   "id": "9044a2e0-ead3-4883-be8d-3562ed427304",
   "metadata": {},
   "source": [
    "还有客服记录数据："
   ]
  },
  {
   "cell_type": "code",
   "execution_count": 3,
   "id": "97180d66-131c-4f2f-b1dc-37a36802fb02",
   "metadata": {},
   "outputs": [
    {
     "name": "stdout",
     "output_type": "stream",
     "text": [
      "Writing customer_service_records.csv\n"
     ]
    }
   ],
   "source": [
    "%%writefile customer_service_records.csv\n",
    "record_id,order_id,customer_id,service_type,issue_category,conversation_log,conversation_log_vec,service_agent,created_date,resolved_date,resolution_status,product_name\n",
    "\"CS001\",\"O002\",\"C002\",\"订单取消\",\"客户主动取消\",\"Customer: 你好，我想取消订单O002，不需要这个商品了\\nAgent: 您好，我来帮您处理订单取消。请稍等，我查看一下订单状态\\nAgent: 您的订单还未发货，可以取消。我现在为您处理取消手续\\nCustomer: 好的，谢谢。退款什么时候能到账？\\nAgent: 退款会在1-3个工作日内原路返回到您的支付账户\",,\"客服小王\",\"2024-01-16 15:30:00\",\"2024-01-16 16:00:00\",\"已解决\",\"品牌:TechZen 类型:平板电脑 商品名:TabletMax Pro 12.9寸\"\n",
    "\"CS002\",\"O003\",\"C003\",\"退货申请\",\"产品质量问题\",\"Customer: 我买的SoundBuds Pro连接不稳定，经常断连，我要退货\\nAgent: 您好，很抱歉给您带来不好的体验。请问具体是什么情况？\\nCustomer: 和手机连接后经常自动断开，音质也不好\\nAgent: 我理解您的困扰。我们支持7天无理由退货，我来为您办理退货手续\\nCustomer: 需要我自己承担运费吗？\\nAgent: 由于是产品质量问题，运费由我们承担。我安排快递员上门取件\",,\"客服小李\",\"2024-01-22 10:15:00\",\"2024-01-23 14:30:00\",\"处理中\",\"品牌:TechZen 类型:蓝牙耳机 商品名:SoundBuds Pro 2\"\n",
    "\"CS003\",\"O004\",\"C004\",\"换货申请\",\"产品功能异常\",\"Customer: 我的PowerBook键盘有几个键按不了，才买3天\\nAgent: 您好，很抱歉出现这个问题。请问是哪几个按键？\\nCustomer: 空格键和回车键经常失灵，影响正常使用\\nAgent: 这确实影响使用体验。我为您申请换货，换一台全新的\\nCustomer: 换货要多久？我工作急需用\\nAgent: 我们会优先处理，明天安排取件，后天新机器就能送到\",,\"客服小张\",\"2024-01-25 09:20:00\",\"2024-01-26 11:45:00\",\"已解决\",\"品牌:TechZen 类型:笔记本电脑 商品名:PowerBook Pro 14寸\"\n",
    "\"CS004\",\"O007\",\"C007\",\"退款申请\",\"产品质量问题\",\"Customer: Sony耳机用了两天就出现杂音，我要退款\\nAgent: 您好，请问具体是什么故障？\\nCustomer: 左耳机有明显的电流声，右耳机声音很小\\nAgent: 我来帮您处理。请问您还保留购买凭证和包装吗？\\nCustomer: 都在，发票和盒子都没扔\\nAgent: 好的，我现在为您登记退款申请，需要1-2个工作日审核\",,\"客服小陈\",\"2024-02-03 13:40:00\",\"\",\"处理中\",\"品牌:AudioMax 类型:蓝牙耳机 商品名:AudioMax WX-2000\"\n",
    "\"CS005\",\"O005\",\"C005\",\"物流咨询\",\"配送延迟\",\"Customer: 我的手机怎么还没到？已经3天了\\nAgent: 您好，我来帮您查询物流信息\\nAgent: 您的包裹目前在杭州转运中心，预计明天能送达\\nCustomer: 为什么这么慢？\\nAgent: 最近快递量比较大，给您造成不便很抱歉\",,\"客服小刘\",\"2024-01-24 16:10:00\",\"2024-01-24 16:20:00\",\"已解决\",\"品牌:FlashTech 类型:智能手机 商品名:FlashMobile Ultra 512GB\"\n",
    "\"CS006\",\"O003\",\"C003\",\"退货跟进\",\"退货流程\",\"Customer: 我的退货处理得怎么样了？\\nAgent: 您好，我查看一下退货进度\\nAgent: 您的退货商品我们已经收到，正在质检\\nCustomer: 什么时候能退款？\\nAgent: 质检通过后3-5个工作日内退款会到账\",,\"客服小王\",\"2024-01-28 14:25:00\",\"2024-01-28 14:40:00\",\"已解决\",\"品牌:TechZen 类型:蓝牙耳机 商品名:SoundBuds Pro 2\"\n",
    "\"CS007\",\"O004\",\"C004\",\"换货跟进\",\"物流查询\",\"Customer: 我的换货商品发了吗？\\nAgent: 您好，我来查询一下\\nAgent: 您的换货商品已经发出，快递单号是YD1111222233\\nCustomer: 什么时候能到？\\nAgent: 预计明天下午能送达，请保持电话畅通\",,\"客服小李\",\"2024-01-30 10:30:00\",\"2024-01-30 10:45:00\",\"已解决\",\"品牌:TechZen 类型:笔记本电脑 商品名:PowerBook Pro 14寸\"\n",
    "\"CS008\",\"O011\",\"C010\",\"退货申请\",\"产品不满意\",\"Customer: FlashMobile手机系统太卡了，我要退货\\nAgent: 您好，请问具体是什么情况？\\nCustomer: 打开应用很慢，经常卡死，和宣传不符\\nAgent: 我理解您的困扰。请问您试过重启或恢复出厂设置吗？\\nCustomer: 试过了，没有改善，我就要退货\\nAgent: 好的，我为您办理退货手续，快递员明天上门取件\",,\"客服小王\",\"2024-02-10 14:20:00\",\"2024-02-10 15:30:00\",\"已解决\",\"品牌:FlashTech 类型:智能手机 商品名:FlashMobile Ultra 512GB\"\n",
    "\"CS009\",\"O013\",\"C012\",\"换货申请\",\"屏幕问题\",\"Customer: TabletMax屏幕有亮点，影响使用\\nAgent: 您好，请问亮点在什么位置？大小如何？\\nCustomer: 屏幕中央有个白点，很明显，看视频很影响\\nAgent: 这确实影响使用体验。我为您申请换货，换一台全新的\\nCustomer: 需要多久？\\nAgent: 2-3个工作日，我们会优先处理\",,\"客服小张\",\"2024-02-15 10:45:00\",\"2024-02-15 11:20:00\",\"已解决\",\"品牌:TechZen 类型:平板电脑 商品名:TabletMax Pro 12.9寸\"\n",
    "\"CS010\",\"O015\",\"C014\",\"退款申请\",\"产品缺陷\",\"Customer: 笔记本键盘多个按键失灵，要求退款\\nAgent: 您好，请问是哪些按键失灵？\\nCustomer: W、A、S、D这几个按键都按不了，游戏都玩不了\\nAgent: 这确实很影响使用。请问您是什么时候购买的？\\nCustomer: 上周买的，才用了几天\\nAgent: 我为您登记退款申请，由于是质量问题，全额退款\",,\"客服小陈\",\"2024-02-20 16:30:00\",\"\",\"处理中\",\"品牌:ProTech 类型:笔记本电脑 商品名:BusinessLaptop X1\"\n",
    "\"CS011\",\"O009\",\"C008\",\"物流咨询\",\"配送延迟\",\"Customer: 我的iPhone为什么还没到？\\nAgent: 您好，我来帮您查询物流信息\\nAgent: 您的包裹目前在西安转运中心，预计今天晚上能送达\\nCustomer: 好的，谢谢\",,\"客服小刘\",\"2024-02-06 14:15:00\",\"2024-02-06 14:25:00\",\"已解决\",\"品牌:TechZen 类型:智能手机 商品名:ZenPhone Pro 256GB\"\n",
    "\"CS012\",\"O016\",\"C015\",\"产品咨询\",\"使用问题\",\"Customer: 华为平板怎么连接蓝牙耳机？\\nAgent: 您好，我来教您连接步骤\\nAgent: 请打开设置-蓝牙，确保蓝牙开启，然后点击搜索设备\\nCustomer: 找到了，已经连接成功，谢谢\\nAgent: 不客气，还有其他问题随时联系我们\",,\"客服小李\",\"2024-02-22 11:20:00\",\"2024-02-22 11:35:00\",\"已解决\",\"品牌:DigitalWave 类型:平板电脑 商品名:SmartPad Elite\"\n",
    "\"CS013\",\"O010\",\"C009\",\"售后咨询\",\"保修问题\",\"Customer: AirPods保修多久？如果坏了怎么办？\\nAgent: 您好，AirPods享受1年全球联保\\nAgent: 如果出现非人为损坏，可以免费维修或更换\\nCustomer: 那人为损坏呢？\\nAgent: 人为损坏需要支付维修费用，具体价格根据损坏程度而定\",,\"客服小王\",\"2024-02-08 15:40:00\",\"2024-02-08 15:55:00\",\"已解决\",\"品牌:TechZen 类型:蓝牙耳机 商品名:SoundBuds Pro 2\""
   ]
  },
  {
   "cell_type": "markdown",
   "id": "ef6b1d52-8ddb-45db-b313-c4d1504c836c",
   "metadata": {},
   "source": [
    "初始化环境变量,这里需要根据创建的TiDB数据库的连接信息，以及硅基流动上的key来更新下面的内容："
   ]
  },
  {
   "cell_type": "code",
   "execution_count": 4,
   "id": "7b93a542-d691-44df-9cd5-52f8a0abb1e7",
   "metadata": {},
   "outputs": [],
   "source": [
    "import os\n",
    "\n",
    "from pytidb import TiDBClient\n",
    "from pytidb.schema import TableModel, Field\n",
    "from pytidb.embeddings import EmbeddingFunction\n",
    "from pytidb.datatype import Text\n",
    "\n",
    "import pandas as pd\n",
    "\n",
    "os.environ[\"TIDB_HOST\"] = \"{host}\"\n",
    "os.environ[\"TIDB_PORT\"] = \"4000\"\n",
    "os.environ[\"TIDB_USERNAME\"] = \"{username}\"\n",
    "os.environ[\"TIDB_PASSWORD\"] = \"{password}\"\n",
    "os.environ[\"TIDB_DATABASE\"] = \"{database}\"\n",
    "os.environ[\"SILICONFLOW_KEY\"] = \"{key}\"\n",
    "os.environ[\"AWS_REGION_NAME\"] = \"us-east-1\""
   ]
  },
  {
   "cell_type": "markdown",
   "id": "0d63173e-8a89-4539-99a2-ff5cd79da490",
   "metadata": {},
   "source": [
    "创建TiBD数据库连接的对象："
   ]
  },
  {
   "cell_type": "code",
   "execution_count": 7,
   "id": "b7e7e87e-fae3-435d-b2e3-cf0e761545ca",
   "metadata": {},
   "outputs": [],
   "source": [
    "db = TiDBClient.connect(\n",
    "    host=os.getenv(\"TIDB_HOST\"),\n",
    "    port=int(os.getenv(\"TIDB_PORT\", \"4000\")),\n",
    "    username=os.getenv(\"TIDB_USERNAME\"),\n",
    "    password=os.getenv(\"TIDB_PASSWORD\"),\n",
    "    database=os.getenv(\"TIDB_DATABASE\"),\n",
    "    enable_ssl=True,\n",
    ")"
   ]
  },
  {
   "cell_type": "markdown",
   "id": "8578ab63-afe7-4b00-98fe-f44936a0d8e1",
   "metadata": {},
   "source": [
    "创建向量化模型，用于之后的将文本数据向量化："
   ]
  },
  {
   "cell_type": "code",
   "execution_count": 8,
   "id": "51fb2359-a8cb-43fe-9165-f53c0e730b04",
   "metadata": {},
   "outputs": [],
   "source": [
    "text_embed = EmbeddingFunction(\n",
    "    \"bedrock/amazon.titan-embed-text-v2:0\",\n",
    "    dimensions = 1024,\n",
    "    timeout = 60\n",
    ")"
   ]
  },
  {
   "cell_type": "markdown",
   "id": "05448f52-ef22-4095-9f53-780fb749d773",
   "metadata": {},
   "source": [
    "下面，定义两个表的Python表结构，然后读取csv文件，插入表中："
   ]
  },
  {
   "cell_type": "code",
   "execution_count": 9,
   "id": "56969a9b-7aef-4a3c-b378-cd70c4126006",
   "metadata": {},
   "outputs": [],
   "source": [
    "# Define the table\n",
    "table_name = \"product_reviews\"\n",
    "class ProductReview(TableModel, table=True):\n",
    "    __tablename__ = table_name\n",
    "    __table_args__ = {\"extend_existing\": True}\n",
    "\n",
    "    review_id: str = Field(primary_key=True)\n",
    "    order_id: str = Field()\n",
    "    product_id: str = Field()\n",
    "    customer_id: str = Field()\n",
    "    rating: int = Field()\n",
    "    product_name: str = Field()\n",
    "    # product_name: str = FullTextField()\n",
    "    review_content: str = Field(sa_type=Text)\n",
    "    review_content_vec: list[float] = text_embed.VectorField(\n",
    "        source_field=\"review_content\"\n",
    "    )\n",
    "    review_date: str = Field()\n",
    "    is_verified_purchase: bool = Field()\n",
    "    \n",
    "\n",
    "cs_table_name = \"customer_service_records\"\n",
    "class CSRecords(TableModel, table=True):\n",
    "    __tablename__ = cs_table_name\n",
    "    __table_args__ = {\"extend_existing\": True}\n",
    "\n",
    "    record_id: str = Field(primary_key=True)\n",
    "    order_id: str = Field()\n",
    "    customer_id: str = Field()\n",
    "    service_type: str = Field()\n",
    "    issue_category: str = Field()\n",
    "    service_agent: str = Field()\n",
    "    conversation_log: str = Field(sa_type=Text)\n",
    "    conversation_log_vec: list[float] = text_embed.VectorField(\n",
    "        source_field=\"conversation_log\"\n",
    "    )\n",
    "    created_date: str = Field()\n",
    "    resolved_date: str = Field()\n",
    "    resolution_status: str = Field()\n",
    "    product_name: str = Field()"
   ]
  },
  {
   "cell_type": "markdown",
   "id": "d6437dea-b696-40a3-83da-c9577414b43e",
   "metadata": {},
   "source": [
    "在进行向量化时，我们只需要插入数据，（记录中向量的字段必须为空），这样，TiDB的Python库就会自动生成向量并保存到该字段中。"
   ]
  },
  {
   "cell_type": "code",
   "execution_count": 10,
   "id": "f8edd78d-cbe7-48a1-8f2e-93ff1a50f051",
   "metadata": {},
   "outputs": [],
   "source": [
    "pr_table = db.open_table(table_name)\n",
    "cs_table = db.open_table(cs_table_name)\n",
    "\n",
    "if pr_table is None:\n",
    "    pr_table = db.create_table(schema=ProductReview, mode=\"exist_ok\")\n",
    "if cs_table is None:\n",
    "    cs_table = db.create_table(schema=CSRecords, mode=\"exist_ok\")\n",
    "\n",
    "# Read data from CSV file\n",
    "if pr_table.rows() == 0:\n",
    "    print(\"Inserting product_reviews data into table...\")\n",
    "\n",
    "    df = pd.read_csv('product_reviews.csv').fillna('')\n",
    "    reviews_data = df.to_dict('records')\n",
    "\n",
    "    # Insert records into table\n",
    "    data_list = []\n",
    "    for review in reviews_data:\n",
    "        del review['review_content_vec'] # 需要删掉这个值，否则不会自动生成\n",
    "        data_list.append(ProductReview(**review))\n",
    "    pr_table.bulk_insert(data_list)\n",
    "    print(\"Products reviews data inserted.\")\n",
    "\n",
    "if cs_table.rows() == 0:\n",
    "    print(\"Inserting customer_service_records data into table...\")\n",
    "\n",
    "    df2 = pd.read_csv('customer_service_records.csv').fillna('')\n",
    "    cs_data = df2.to_dict('records')\n",
    "\n",
    "    # Insert records into table\n",
    "    cs_list = []\n",
    "    for cs in cs_data:\n",
    "        del cs['conversation_log_vec'] # 需要删掉这个值，否则不会自动生成\n",
    "        cs_list.append(CSRecords(**cs))\n",
    "    cs_table.bulk_insert(cs_list)\n",
    "    print(\"customer service records data inserted.\")"
   ]
  },
  {
   "cell_type": "markdown",
   "id": "753be3e7-dd19-4e9e-b62e-74e0d1c5d2ca",
   "metadata": {},
   "source": [
    "最后，进行查询验证："
   ]
  },
  {
   "cell_type": "code",
   "execution_count": 11,
   "id": "a05c6425-1cac-4f24-8684-32ecf7e84875",
   "metadata": {},
   "outputs": [
    {
     "name": "stdout",
     "output_type": "stream",
     "text": [
      "list1: [{'review_id': 'R001', 'order_id': 'O001', 'product_id': 'P001', 'customer_id': 'C001', 'rating': 5, 'product_name': '品牌:TechZen 类型:智能手机 商品名:ZenPhone Pro 256GB', 'review_content': '手机很棒，拍照效果非常好，系统流畅，值得购买！', 'review_content_vec': array([-0.01210085,  0.02602298, -0.01609586, ..., -0.03662402,\n",
      "       -0.0375113 , -0.00281314], dtype=float32), 'review_date': '2024-01-20 10:00:00', 'is_verified_purchase': True, '_distance': 0.7635366884382245, '_score': 0.23646331156177547}, {'review_id': 'R009', 'order_id': 'O009', 'product_id': 'P001', 'customer_id': 'C008', 'rating': 3, 'product_name': '品牌:TechZen 类型:智能手机 商品名:ZenPhone Pro 256GB', 'review_content': '手机整体不错，但电池续航一般，一天需要充两次电', 'review_content_vec': array([-0.03290067,  0.04844997, -0.03593287, ..., -0.01771899,\n",
      "       -0.00185138,  0.01768655], dtype=float32), 'review_date': '2024-02-08 13:45:00', 'is_verified_purchase': True, '_distance': 0.8658629390491379, '_score': 0.13413706095086209}, {'review_id': 'R008', 'order_id': 'O014', 'product_id': 'P006', 'customer_id': 'C013', 'rating': 5, 'product_name': '品牌:AudioMax 类型:蓝牙耳机 商品名:AudioMax WX-2000', 'review_content': 'AudioMax耳机音质一流，降噪效果很棒，强烈推荐！', 'review_content_vec': array([-0.01151516,  0.02426915,  0.01647194, ...,  0.02805021,\n",
      "        0.03330522,  0.01351971], dtype=float32), 'review_date': '2024-02-20 11:15:00', 'is_verified_purchase': True, '_distance': 0.8694936737154068, '_score': 0.13050632628459324}]\n",
      "list2: [{'record_id': 'CS012', 'order_id': 'O016', 'customer_id': 'C015', 'service_type': '产品咨询', 'issue_category': '使用问题', 'service_agent': '客服小李', 'conversation_log': 'Customer: 华为平板怎么连接蓝牙耳机？\\\\nAgent: 您好，我来教您连接步骤\\\\nAgent: 请打开设置-蓝牙，确保蓝牙开启，然后点击搜索设备\\\\nCustomer: 找到了，已经连接成功，谢谢\\\\nAgent: 不客气，还有其他问题随时联系我们', 'conversation_log_vec': array([-0.00698158, -0.00115617,  0.03322395, ..., -0.0122405 ,\n",
      "       -0.06730384, -0.05914138], dtype=float32), 'created_date': '2024-02-22 11:20:00', 'resolved_date': '2024-02-22 11:35:00', 'resolution_status': '已解决', 'product_name': '品牌:DigitalWave 类型:平板电脑 商品名:SmartPad Elite', '_distance': 0.8227870607668425, '_score': 0.1772129392331575}, {'record_id': 'CS004', 'order_id': 'O007', 'customer_id': 'C007', 'service_type': '退款申请', 'issue_category': '产品质量问题', 'service_agent': '客服小陈', 'conversation_log': 'Customer: Sony耳机用了两天就出现杂音，我要退款\\\\nAgent: 您好，请问具体是什么故障？\\\\nCustomer: 左耳机有明显的电流声，右耳机声音很小\\\\nAgent: 我来帮您处理。请问您还保留购买凭证和包装吗？\\\\nCustomer: 都在，发票和盒子都没扔\\\\nAgent: 好的，我现在为您登记退款申请，需要1-2个工作日审核', 'conversation_log_vec': array([-0.01910863,  0.0545004 ,  0.04050979, ..., -0.0165497 ,\n",
      "       -0.00416728,  0.03392227], dtype=float32), 'created_date': '2024-02-03 13:40:00', 'resolved_date': '', 'resolution_status': '处理中', 'product_name': '品牌:AudioMax 类型:蓝牙耳机 商品名:AudioMax WX-2000', '_distance': 0.9276042317971308, '_score': 0.07239576820286919}, {'record_id': 'CS008', 'order_id': 'O011', 'customer_id': 'C010', 'service_type': '退货申请', 'issue_category': '产品不满意', 'service_agent': '客服小王', 'conversation_log': 'Customer: FlashMobile手机系统太卡了，我要退货\\\\nAgent: 您好，请问具体是什么情况？\\\\nCustomer: 打开应用很慢，经常卡死，和宣传不符\\\\nAgent: 我理解您的困扰。请问您试过重启或恢复出厂设置吗？\\\\nCustomer: 试过了，没有改善，我就要退货\\\\nAgent: 好的，我为您办理退货手续，快递员明天上门取件', 'conversation_log_vec': array([-0.04887768,  0.02830338,  0.03150889, ...,  0.03121951,\n",
      "       -0.00873258,  0.04326165], dtype=float32), 'created_date': '2024-02-10 14:20:00', 'resolved_date': '2024-02-10 15:30:00', 'resolution_status': '已解决', 'product_name': '品牌:FlashTech 类型:智能手机 商品名:FlashMobile Ultra 512GB', '_distance': 0.9281136191453282, '_score': 0.0718863808546718}]\n"
     ]
    }
   ],
   "source": [
    "list1 = pr_table.search(\"ZenPhone\").limit(3).to_list()\n",
    "print(\"list1:\", list1)\n",
    "\n",
    "list2 = cs_table.search(\"ZenPhone\").limit(3).to_list()\n",
    "print(\"list2:\", list2)"
   ]
  },
  {
   "cell_type": "markdown",
   "id": "1d3249d2-a1fa-4f0e-a524-3feec054758c",
   "metadata": {},
   "source": [
    "## 使用TiDB MCP tool创建Agent"
   ]
  },
  {
   "cell_type": "markdown",
   "id": "f8e50d33-315a-4baa-81db-3fa8e5f9a8e9",
   "metadata": {},
   "source": [
    "下面，我们创建Strands Agent，使用TiDB提供的MCP tools来作为Agent的tool："
   ]
  },
  {
   "cell_type": "code",
   "execution_count": 72,
   "id": "800877f4-e491-44b9-ba02-466fc83940a8",
   "metadata": {},
   "outputs": [],
   "source": [
    "from mcp import stdio_client, StdioServerParameters\n",
    "from strands import Agent\n",
    "from strands.tools.mcp import MCPClient\n",
    "\n",
    "stdio_mcp_client = MCPClient(lambda: stdio_client(\n",
    "    StdioServerParameters(\n",
    "        command=\"python\", \n",
    "        args=[\"-m\", 'pytidb.ext.mcp'],\n",
    "        env={\n",
    "            \"TIDB_HOST\": os.getenv(\"TIDB_HOST\"),\n",
    "            \"TIDB_PORT\": os.getenv(\"TIDB_PORT\"),\n",
    "            \"TIDB_USERNAME\": os.getenv(\"TIDB_USERNAME\"),\n",
    "            \"TIDB_PASSWORD\": os.getenv(\"TIDB_PASSWORD\"),\n",
    "            \"TIDB_DATABASE\": os.getenv(\"TIDB_DATABASE\"),\n",
    "            \"SILICONFLOW_KEY\": os.getenv(\"SILICONFLOW_KEY\"),\n",
    "            \"AWS_REGION_NAME\": os.getenv(\"AWS_REGION_NAME\")\n",
    "        }\n",
    "    )\n",
    "))\n",
    "\n",
    "# Create an agent with MCP tools\n",
    "with stdio_mcp_client:\n",
    "    # Get the tools from the MCP server\n",
    "    tools = stdio_mcp_client.list_tools_sync()"
   ]
  },
  {
   "cell_type": "markdown",
   "id": "3344f194-d975-42c4-8a55-5e2bc7d2fc05",
   "metadata": {},
   "source": [
    "打印tools，保证MCP创建成功："
   ]
  },
  {
   "cell_type": "code",
   "execution_count": 73,
   "id": "162933b7-0190-4a9f-b171-1fdd67826cd4",
   "metadata": {},
   "outputs": [
    {
     "data": {
      "text/plain": [
       "[<strands.tools.mcp.mcp_agent_tool.MCPAgentTool at 0x7f383932bee0>,\n",
       " <strands.tools.mcp.mcp_agent_tool.MCPAgentTool at 0x7f3832a7bdf0>,\n",
       " <strands.tools.mcp.mcp_agent_tool.MCPAgentTool at 0x7f3832a78130>,\n",
       " <strands.tools.mcp.mcp_agent_tool.MCPAgentTool at 0x7f3832a7ab90>,\n",
       " <strands.tools.mcp.mcp_agent_tool.MCPAgentTool at 0x7f3832a79900>,\n",
       " <strands.tools.mcp.mcp_agent_tool.MCPAgentTool at 0x7f3830bbd630>,\n",
       " <strands.tools.mcp.mcp_agent_tool.MCPAgentTool at 0x7f3830bbf130>]"
      ]
     },
     "execution_count": 73,
     "metadata": {},
     "output_type": "execute_result"
    }
   ],
   "source": [
    "tools"
   ]
  },
  {
   "cell_type": "markdown",
   "id": "e67a5d41-ab95-4d64-87d6-4783b648fad9",
   "metadata": {},
   "source": [
    "下面，创建Strands Agent，我们先定义模型，可以根据需要使用Deepseek V3的模型，或者nova模型。"
   ]
  },
  {
   "cell_type": "code",
   "execution_count": 45,
   "id": "ece3dcef-2892-4482-b94e-d682a5fdc2b4",
   "metadata": {},
   "outputs": [],
   "source": [
    "from strands.models import BedrockModel\n",
    "from strands.models.openai import OpenAIModel\n",
    "import boto3\n",
    "\n",
    "ds_model = OpenAIModel(\n",
    "    client_args = {\n",
    "        \"api_key\": os.getenv(\"SILICONFLOW_KEY\"),\n",
    "        \"base_url\": \"https://api.siliconflow.cn/v1\"\n",
    "    },\n",
    "    model_id = \"deepseek-ai/DeepSeek-V3\",\n",
    ")\n",
    "bedrock_model = BedrockModel(\n",
    "    model_id=\"us.amazon.nova-pro-v1:0\",\n",
    "    boto_session=boto3.Session(region_name=\"us-east-1\")\n",
    ")\n"
   ]
  },
  {
   "cell_type": "markdown",
   "id": "cd1a3e8d-ed6b-4c78-a0ec-6ce8f33c310a",
   "metadata": {},
   "source": [
    "创建Strands Agent："
   ]
  },
  {
   "cell_type": "code",
   "execution_count": 46,
   "id": "2d13940e-07df-4e42-ad3b-7ac3d3f5a224",
   "metadata": {},
   "outputs": [],
   "source": [
    "agent = Agent(\n",
    "    model=ds_model,\n",
    "    system_prompt=\"你是一个客服助手！如果需要回答客服、订单、商品等数据相关问题，可以查询TiDB来回答。\",\n",
    "    tools=tools,\n",
    ")"
   ]
  },
  {
   "cell_type": "markdown",
   "id": "0226adeb-3d0f-4136-ba79-97074bb15354",
   "metadata": {},
   "source": [
    "设置日志级别："
   ]
  },
  {
   "cell_type": "code",
   "execution_count": 61,
   "id": "67e8a3b9-4038-42c7-bbf6-b1f3275919cc",
   "metadata": {},
   "outputs": [],
   "source": [
    "import logging\n",
    "\n",
    "# logging.getLogger(\"strands\").setLevel(logging.DEBUG) # 如果想查看所有的中间结果，这用这个设置\n",
    "logging.getLogger(\"strands\").setLevel(logging.WARNING) # 默认都只查看警告级别的日志\n",
    "\n",
    "logging.getLogger(\"strands.models\").setLevel(logging.WARNING)\n",
    "logging.getLogger(\"strands.event_loop.event_loop\").setLevel(logging.DEBUG) # 这个设置，会打印每次所使用的工具"
   ]
  },
  {
   "cell_type": "code",
   "execution_count": 54,
   "id": "0a954cef-5475-4ed7-8c38-f173f684a6f2",
   "metadata": {},
   "outputs": [
    {
     "name": "stderr",
     "output_type": "stream",
     "text": [
      "DEBUG | strands.models.openai | formatting request\n",
      "DEBUG | strands.models.openai | formatted request=<{'messages': [{'role': 'system', 'content': '你是一个客服助手！如果需要回答客服、订单、商品等数据相关问题，可以查询TiDB来回答。'}, {'role': 'user', 'content': [{'text': '有哪些退货的订单？', 'type': 'text'}]}, {'role': 'assistant', 'content': [], 'tool_calls': [{'function': {'arguments': '{}', 'name': 'show_tables'}, 'id': '019875d948f03e0b9dbeea79a6396849', 'type': 'function'}]}, {'role': 'tool', 'tool_call_id': '019875d948f03e0b9dbeea79a6396849', 'content': [{'text': 'customer_service_records', 'type': 'text'}, {'text': 'logistics', 'type': 'text'}, {'text': 'orders', 'type': 'text'}, {'text': 'product_reviews', 'type': 'text'}, {'text': 'products', 'type': 'text'}]}, {'role': 'assistant', 'content': [], 'tool_calls': [{'function': {'arguments': '{\"sql_stmt\": \"SELECT * FROM orders WHERE status = \\'returned\\' LIMIT 100;\"}', 'name': 'db_query'}, 'id': '019875d9572c260217308cdd22f9432a', 'type': 'function'}]}, {'role': 'tool', 'tool_call_id': '019875d9572c260217308cdd22f9432a', 'content': [{'text': 'Error executing tool db_query: (pymysql.err.OperationalError) (1054, \"Unknown column \\'status\\' in \\'where clause\\'\")\\n[SQL: SELECT * FROM orders WHERE status = \\'returned\\' LIMIT 100;]\\n(Background on this error at: https://sqlalche.me/e/20/e3q8)', 'type': 'text'}]}, {'role': 'assistant', 'content': [], 'tool_calls': [{'function': {'arguments': '{\"sql_stmt\": \"DESCRIBE orders;\"}', 'name': 'db_query'}, 'id': '019875d9773862989063c13df02fa113', 'type': 'function'}]}, {'role': 'tool', 'tool_call_id': '019875d9773862989063c13df02fa113', 'content': [{'text': '{\\n  \"Field\": \"order_id\",\\n  \"Type\": \"varchar(255)\",\\n  \"Null\": \"YES\",\\n  \"Key\": \"\",\\n  \"Default\": null,\\n  \"Extra\": \"\"\\n}', 'type': 'text'}, {'text': '{\\n  \"Field\": \"customer_id\",\\n  \"Type\": \"varchar(255)\",\\n  \"Null\": \"YES\",\\n  \"Key\": \"\",\\n  \"Default\": null,\\n  \"Extra\": \"\"\\n}', 'type': 'text'}, {'text': '{\\n  \"Field\": \"product_id\",\\n  \"Type\": \"varchar(255)\",\\n  \"Null\": \"YES\",\\n  \"Key\": \"\",\\n  \"Default\": null,\\n  \"Extra\": \"\"\\n}', 'type': 'text'}, {'text': '{\\n  \"Field\": \"quantity\",\\n  \"Type\": \"int(11)\",\\n  \"Null\": \"YES\",\\n  \"Key\": \"\",\\n  \"Default\": null,\\n  \"Extra\": \"\"\\n}', 'type': 'text'}, {'text': '{\\n  \"Field\": \"total_amount\",\\n  \"Type\": \"float\",\\n  \"Null\": \"YES\",\\n  \"Key\": \"\",\\n  \"Default\": null,\\n  \"Extra\": \"\"\\n}', 'type': 'text'}, {'text': '{\\n  \"Field\": \"order_status\",\\n  \"Type\": \"varchar(255)\",\\n  \"Null\": \"YES\",\\n  \"Key\": \"\",\\n  \"Default\": null,\\n  \"Extra\": \"\"\\n}', 'type': 'text'}, {'text': '{\\n  \"Field\": \"order_date\",\\n  \"Type\": \"timestamp\",\\n  \"Null\": \"YES\",\\n  \"Key\": \"\",\\n  \"Default\": null,\\n  \"Extra\": \"\"\\n}', 'type': 'text'}, {'text': '{\\n  \"Field\": \"customer_name\",\\n  \"Type\": \"varchar(255)\",\\n  \"Null\": \"YES\",\\n  \"Key\": \"\",\\n  \"Default\": null,\\n  \"Extra\": \"\"\\n}', 'type': 'text'}, {'text': '{\\n  \"Field\": \"customer_phone\",\\n  \"Type\": \"varchar(255)\",\\n  \"Null\": \"YES\",\\n  \"Key\": \"\",\\n  \"Default\": null,\\n  \"Extra\": \"\"\\n}', 'type': 'text'}, {'text': '{\\n  \"Field\": \"shipping_address\",\\n  \"Type\": \"varchar(255)\",\\n  \"Null\": \"YES\",\\n  \"Key\": \"\",\\n  \"Default\": null,\\n  \"Extra\": \"\"\\n}', 'type': 'text'}]}, {'role': 'assistant', 'content': [], 'tool_calls': [{'function': {'arguments': '{\"sql_stmt\": \"SELECT * FROM orders WHERE order_status = \\'returned\\' LIMIT 100;\"}', 'name': 'db_query'}, 'id': '019875d98b9bade027e9118aa75f9fc0', 'type': 'function'}]}, {'role': 'assistant', 'content': [], 'tool_calls': [{'function': {'arguments': '{\"sql_stmt\": \"SELECT * FROM orders WHERE order_status = \\'returned\\' LIMIT 100;\"}', 'name': 'db_query'}, 'id': '019875d9a49389b44ccb058ff72a49a7', 'type': 'function'}]}, {'role': 'assistant', 'content': [{'text': \"数据库中并没有符合 `order_status = 'returned'` 的订单记录。如果需要进一步帮助，可以尝试查询其他相关的退货记录或检查订单状态的字段是否准确。\", 'type': 'text'}]}, {'role': 'user', 'content': [{'text': '有哪些退货的订单？', 'type': 'text'}]}, {'role': 'assistant', 'content': [], 'tool_calls': [{'function': {'arguments': '{\"sql_stmt\": \"SELECT * FROM orders WHERE order_status LIKE \\'%return%\\' OR order_status LIKE \\'%refund%\\' LIMIT 100;\"}', 'name': 'db_query'}, 'id': '019875da939dc4340faaeb2c3e17b450', 'type': 'function'}]}, {'role': 'assistant', 'content': [{'text': \"数据库中目前没有满足 `order_status = 'returned'` 的订单记录。可能的原因包括：  \\n\\n1. **没有退货订单**：当前没有订单标记为退货状态。  \\n2. **字段名称不同**：退货状态可能存储在另一个字段或表中（例如 `customer_service_records`）。  \\n3. **数据未同步**：退货记录可能还未更新到数据库。  \\n\\n如果您需要进一步帮助，可以提供更多信息，例如：  \\n- 是否有其他字段可能存储退货状态？  \\n- 是否可以从其他表（如 `customer_service_records`）查询退货记录？  \\n\\n请告诉我您的需求，我可以继续协助查询！\", 'type': 'text'}]}, {'role': 'user', 'content': [{'text': '有哪些退货的订单？', 'type': 'text'}]}, {'role': 'assistant', 'content': [], 'tool_calls': [{'function': {'arguments': '{\"sql_stmt\": \"SELECT * FROM orders WHERE order_status LIKE \\'%return%\\' OR order_status LIKE \\'%refund%\\' LIMIT 100;\"}', 'name': 'db_query'}, 'id': '019875e02f318bc482f25044ccb73fbe', 'type': 'function'}]}, {'role': 'assistant', 'content': [{'text': \"目前数据库中并没有明确标记为“退货”状态的订单记录（通过查询 `orders` 表的 `order_status` 字段未找到相关记录）。以下是可能的原因和下一步建议：  \\n\\n### 可能原因  \\n1. **无退货订单**：系统当前未记录任何退货订单。  \\n2. **字段或表不匹配**：退货信息可能存储在其他字段（如 `status`、`refund_status` 等）或其他表中（如 `customer_service_records`）。  \\n3. **数据格式问题**：退货状态可能使用其他关键词（如“退款”、“已退”等）。  \\n\\n### 建议操作  \\n1. **检查其他相关表**：  \\n   - 是否可以提供更多表结构信息（如 `customer_service_records` 表）？  \\n   - 是否需要查询退款记录或其他售后服务记录？  \\n\\n2. **调整查询逻辑**：  \\n   - 尝试模糊匹配状态字段（如 `order_status LIKE '%退%'` 或其他关键词）。  \\n\\n3. **联系技术支持**：  \\n   - 如果数据敏感或需完整检查，建议联系数据库管理员确认退货流程的数据存储方式。  \\n\\n请告诉我您的需求，我会进一步协助！\", 'type': 'text'}]}, {'role': 'user', 'content': [{'text': '有哪些退货的订单？', 'type': 'text'}]}], 'model': 'deepseek-ai/DeepSeek-V3', 'stream': True, 'stream_options': {'include_usage': True}, 'tools': [{'type': 'function', 'function': {'name': 'show_databases', 'description': 'Show all databases in the tidb cluster', 'parameters': {'properties': {}, 'title': 'show_databasesArguments', 'type': 'object', 'required': []}}}, {'type': 'function', 'function': {'name': 'switch_database', 'description': \"\\n    Switch to a specific database.\\n    \\n    Note:\\n    - The user has already specified the database in the configuration, so you don't need to switch \\n    database before you execute the sql statements.\\n    \", 'parameters': {'properties': {'db_name': {'title': 'Db Name', 'type': 'string', 'description': 'Property db_name'}, 'username': {'anyOf': [{'type': 'string'}, {'type': 'null'}], 'default': None, 'title': 'Username', 'type': 'string', 'description': 'Property username'}, 'password': {'anyOf': [{'type': 'string'}, {'type': 'null'}], 'default': None, 'title': 'Password', 'type': 'string', 'description': 'Property password'}}, 'required': ['db_name'], 'title': 'switch_databaseArguments', 'type': 'object'}}}, {'type': 'function', 'function': {'name': 'show_tables', 'description': 'Show all tables in the database', 'parameters': {'properties': {}, 'title': 'show_tablesArguments', 'type': 'object', 'required': []}}}, {'type': 'function', 'function': {'name': 'db_query', 'description': '\\n    Query data from TiDB database via SQL, best practices:\\n    - using LIMIT for SELECT statements to avoid too many rows returned\\n    - using db_query to execute SELECT / SHOW / DESCRIBE / EXPLAIN ... read-only statements\\n    ', 'parameters': {'properties': {'sql_stmt': {'title': 'Sql Stmt', 'type': 'string', 'description': 'Property sql_stmt'}}, 'required': ['sql_stmt'], 'title': 'db_queryArguments', 'type': 'object'}}}, {'type': 'function', 'function': {'name': 'db_execute', 'description': '\\n    Execute operations on TiDB database via SQL, best practices:\\n    - sql_stmts can be a sql statement string or a array of sql statement strings\\n    - using db_execute to execute INSERT / UPDATE / DELETE / CREATE / DROP ... statements\\n    - the sql statements will be executed in the same transaction\\n    ', 'parameters': {'properties': {'sql_stmts': {'title': 'sql_stmts', 'type': 'string', 'description': 'Property sql_stmts'}}, 'required': ['sql_stmts'], 'title': 'db_executeArguments', 'type': 'object'}}}, {'type': 'function', 'function': {'name': 'db_create_user', 'description': '\\n    Create a new database user, will return the username with prefix\\n    ', 'parameters': {'properties': {'username': {'title': 'Username', 'type': 'string', 'description': 'Property username'}, 'password': {'title': 'Password', 'type': 'string', 'description': 'Property password'}}, 'required': ['username', 'password'], 'title': 'db_create_userArguments', 'type': 'object'}}}, {'type': 'function', 'function': {'name': 'db_remove_user', 'description': '\\n    Remove a database user in TiDB cluster.\\n    ', 'parameters': {'properties': {'username': {'title': 'Username', 'type': 'string', 'description': 'Property username'}}, 'required': ['username'], 'title': 'db_remove_userArguments', 'type': 'object'}}}]}>\n",
      "DEBUG | strands.models.openai | invoking model\n",
      "DEBUG | strands.models.openai | got response from model\n"
     ]
    },
    {
     "name": "stdout",
     "output_type": "stream",
     "text": [
      "目前，通过查询 `orders` 表的 `order_status` 字段，未找到明确标记为“退货”（如 `returned`、`refund` 等）的订单记录。\n",
      "\n",
      "### 可能原因：\n",
      "1. **系统中暂无退货订单**。\n",
      "2. **退货状态存储在其他字段或其他表**（如 `customer_service_records`）。\n",
      "3. **退货状态使用了其他关键词**（如“已退”、“退款中”等）。\n",
      "\n",
      "### 下一步建议：\n",
      "1. **检查其他表**：比如 `customer_service_records` 可能存储了退货或退款记录。\n",
      "2. **调整查询关键词**：比如尝试模糊匹配退货相关词汇。\n",
      "3. **确认字段名称**：部分系统中退货状态可能不叫 `order_status`，而是 `refund_status` 或其他字段。\n",
      "\n",
      "如果需要，我可以帮助查询其他表，或者调整查询条件进一步检查。请确认您的需求！"
     ]
    },
    {
     "name": "stderr",
     "output_type": "stream",
     "text": [
      "DEBUG | strands.models.openai | finished streaming response from model\n"
     ]
    }
   ],
   "source": [
    "with stdio_mcp_client:\n",
    "    agent(\"有哪些退货的订单？\")"
   ]
  },
  {
   "cell_type": "markdown",
   "id": "8d5deeba-5266-4f56-a2a5-fc6cc445b228",
   "metadata": {},
   "source": [
    "由于这个Agent比较简单，没有使用memory，如果想体验更好的显示效果以及多轮对话，请使用Python应用的方式运行。"
   ]
  },
  {
   "cell_type": "markdown",
   "id": "401d58da-4bfc-49d5-9d5d-06c08011f844",
   "metadata": {},
   "source": [
    "## 创建带语义搜索功能的Agent"
   ]
  },
  {
   "cell_type": "markdown",
   "id": "4940a2ba-a7c4-414f-8051-10119144f566",
   "metadata": {},
   "source": [
    "TiDB提供的MCP tool没有语义搜索的功能，我们使用Strands SDK创建一个能够进行语义搜索的工具："
   ]
  },
  {
   "cell_type": "code",
   "execution_count": 55,
   "id": "51a03208-482a-43e4-8d57-c5774a896ce1",
   "metadata": {},
   "outputs": [],
   "source": [
    "from strands import tool\n",
    "\n",
    "@tool\n",
    "def universal_search(table_name, query, filter_object, limit) -> list[dict]:\n",
    "    \"\"\"\n",
    "    Execute universal search on TiDB database, including semantic search with vector search,\n",
    "    and filtering some columns.\n",
    "\n",
    "    Args:\n",
    "    - table_name: the name of the table to query, should be one of the defined tables like product_reviews or customer_service_records\n",
    "    - query: query sentance for semantic search\n",
    "    - filter_object: for filtering one or serval columns, this param is an object with syntax:\n",
    "    ```{\n",
    "        \"$and|$or\": [\n",
    "            {\n",
    "                \"field_name\": {\n",
    "                    <operator>: <value>\n",
    "                }\n",
    "            },\n",
    "            {\n",
    "                \"field_name\": {\n",
    "                    <operator>: <value>\n",
    "                }\n",
    "            }\n",
    "            ...\n",
    "        ]\n",
    "    }```\n",
    "    or just simple filter like:\n",
    "    ```{\n",
    "        \"field_name\": {\n",
    "            <operator>: <value>\n",
    "        }\n",
    "    }```\n",
    "    operators are:\n",
    "        $eq \tEqual to value\n",
    "        $ne \tNot equal to value\n",
    "        $gt \tGreater than value\n",
    "        $gte \tGreater than or equal to value\n",
    "        $lt \tLess than value\n",
    "        $lte \tLess than or equal to value\n",
    "        $in \tIn a list of values\n",
    "    this is an example:\n",
    "    ```\n",
    "        {\n",
    "            \"$and\": [\n",
    "                {\n",
    "                    \"created_at\": {\n",
    "                        \"$gt\": \"2024-01-01\"\n",
    "                    }\n",
    "                },\n",
    "                {\n",
    "                    \"meta.category\": {\n",
    "                        \"$in\": [\"tech\", \"science\"]\n",
    "                    }\n",
    "                }\n",
    "            ]\n",
    "        }\n",
    "    ```\n",
    "    - limit: for limiting the number of results\n",
    "    \"\"\"\n",
    "    try:\n",
    "        if table_name == \"product_reviews\":\n",
    "            vec_table = db.create_table(schema=ProductReview, mode=\"exist_ok\")\n",
    "        elif table_name == \"customer_service_records\":\n",
    "            vec_table = db.create_table(schema=CSRecords, mode=\"exist_ok\")\n",
    "        else:\n",
    "            log.error(f\"Invalid table name: {table_name}\")\n",
    "            raise ValueError(f\"Invalid table name: {table_name}\")\n",
    "\n",
    "        if type(filter_object) is str:\n",
    "            filter_object = json.loads(filter_object)\n",
    "        data_list = vec_table.search(query).filter(filter_object).limit(limit).to_list()\n",
    "        return data_list\n",
    "    except Exception as e:\n",
    "        log.error(f\"Failed to execute query: {query}, on table: {table_name}, to filter: {filter_object}, limit: {limit}, error: {e}\")\n",
    "        raise e"
   ]
  },
  {
   "cell_type": "markdown",
   "id": "669a7193-cb10-492f-a88f-df6a9f1aa6d8",
   "metadata": {},
   "source": [
    "这个工具中，定义了详细的描述信息，用于指导模型何时使用该工具，如果要使用，参数是什么、参数格式等信息。\n",
    "\n",
    "\n",
    "下面再定一个另一个Agent，有语义搜索的功能："
   ]
  },
  {
   "cell_type": "code",
   "execution_count": 59,
   "id": "6c7f82ae-7f44-4ea8-ab6b-1c3141f7797a",
   "metadata": {},
   "outputs": [],
   "source": [
    "agent_ext = Agent(\n",
    "    model=ds_model,\n",
    "    system_prompt=\"\"\"你是一个客服助手！\n",
    "    如果需要回答客服、订单、商品等数据相关问题，可以查询TiDB来回答。\n",
    "    查询TiDB中的数据时，对于vector类型的记录，不需要在结果中返回该字段，而且可以针对有vector类型字段的表进行语义搜索。\n",
    "    \"\"\",\n",
    "    callback_handler=None,\n",
    "    tools=tools + [universal_search],\n",
    ")"
   ]
  },
  {
   "cell_type": "code",
   "execution_count": 65,
   "id": "59c20f1f-52d8-4103-9779-c2ab4e326f6d",
   "metadata": {},
   "outputs": [
    {
     "name": "stderr",
     "output_type": "stream",
     "text": [
      "DEBUG | strands.event_loop.event_loop | tool_use=<{'toolUseId': '019875e99106f61ec53aa88c217947fa', 'name': 'db_query', 'input': {'sql_stmt': \"SELECT * FROM product_reviews WHERE product_id = 'P005' AND review_text LIKE '%蓝牙%' OR review_text LIKE '%连接%' LIMIT 10;\"}}> | streaming\n",
      "DEBUG | strands.event_loop.event_loop | tool_use=<{'toolUseId': '019875e9bd4d348fef3f02b0e39fa2e7', 'name': 'db_query', 'input': {'sql_stmt': 'DESCRIBE product_reviews;'}}> | streaming\n",
      "DEBUG | strands.event_loop.event_loop | tool_use=<{'toolUseId': '019875e9f2810478947d1540aa27820a', 'name': 'db_query', 'input': {'sql_stmt': \"SELECT review_id, product_id, customer_id, product_name, review_content, review_date FROM product_reviews WHERE product_id = 'P005' AND (review_content LIKE '%蓝牙%' OR review_content LIKE '%连接%') LIMIT 10;\"}}> | streaming\n"
     ]
    }
   ],
   "source": [
    "with stdio_mcp_client:\n",
    "    res = agent_ext(\"从TiDB数据库中，查找商品P005,有关蓝牙连接问题的商品评论信息\")"
   ]
  },
  {
   "cell_type": "code",
   "execution_count": 64,
   "id": "c2191c65-eae5-4c9f-ade9-280b8efce5f7",
   "metadata": {},
   "outputs": [
    {
     "data": {
      "text/plain": [
       "AgentResult(stop_reason='end_turn', message={'role': 'assistant', 'content': [{'text': '目前我无法直接访问数据库来查询商品P005的蓝牙连接问题的评论信息，可能是因为接口问题或权限限制。  \\n\\n您可以尝试以下方法获取相关内容：  \\n1. **检查商品页面**：通常商品详情页会展示用户的评论和反馈，尤其是关于蓝牙连接的问题。  \\n2. **联系客服**：如果您需要更详细的帮助，可以直接联系平台客服，提供商品编号（P005）和具体问题（蓝牙连接问题），他们会为您提供更精准的解决方案。  \\n\\n如果您有其他查询需求或需要帮助的地方，请随时告诉我！'}]}, metrics=EventLoopMetrics(cycle_count=5, tool_metrics={'universal_search': ToolMetrics(tool={'toolUseId': '019875e7ecc60b69038c069c19c92131', 'name': 'universal_search', 'input': {'table_name': 'product_reviews', 'query': '蓝牙连接问题', 'filter_object': '{\"product_id\":{\"$eq\":\"P005\"}}', 'limit': '10'}}, call_count=2, success_count=0, error_count=2, total_time=2.2803778648376465)}, cycle_durations=[9.360470056533813, 5.802194356918335, 12.48629117012024], traces=[<strands.telemetry.metrics.Trace object at 0x7f38314af0d0>, <strands.telemetry.metrics.Trace object at 0x7f3830ba07c0>, <strands.telemetry.metrics.Trace object at 0x7f383054e080>, <strands.telemetry.metrics.Trace object at 0x7f3832114130>, <strands.telemetry.metrics.Trace object at 0x7f3831134040>], accumulated_usage={'inputTokens': 8093, 'outputTokens': 270, 'totalTokens': 8363}, accumulated_metrics={'latencyMs': 0}), state={})"
      ]
     },
     "execution_count": 64,
     "metadata": {},
     "output_type": "execute_result"
    }
   ],
   "source": [
    "res"
   ]
  },
  {
   "cell_type": "markdown",
   "id": "e0d60531-0e73-42ae-81a0-2853db51f3a4",
   "metadata": {},
   "source": [
    "从结果可以看到，他使用了universal_search 这个tool，参数是：\n",
    "\n",
    "```\n",
    "{'table_name': 'product_reviews', 'query': '蓝牙连接问题', 'filter_object': '{\"product_id\":{\"$eq\":\"P005\"}}', 'limit': '10'}}\n",
    "```"
   ]
  },
  {
   "cell_type": "markdown",
   "id": "ccfe95c4-9927-4ad5-be4d-b28433dd68a9",
   "metadata": {},
   "source": [
    "我们可以直接用这个参数，调用TiDB的API："
   ]
  },
  {
   "cell_type": "code",
   "execution_count": 74,
   "id": "d0744661-c1d4-4cf6-a3bc-7bdbfa48fd48",
   "metadata": {},
   "outputs": [
    {
     "data": {
      "text/plain": [
       "[{'review_id': 'R004',\n",
       "  'order_id': 'O003',\n",
       "  'product_id': 'P005',\n",
       "  'customer_id': 'C003',\n",
       "  'rating': 2,\n",
       "  'product_name': '品牌:TechZen 类型:蓝牙耳机 商品名:SoundBuds Pro 2',\n",
       "  'review_content': '耳机连接不稳定，经常断连，音质也不如宣传的那么好，准备退货',\n",
       "  'review_content_vec': array([-0.01396188,  0.03689145, -0.0274957 , ...,  0.02854494,\n",
       "          0.00186262, -0.01442363], dtype=float32),\n",
       "  'review_date': '2024-01-25 16:20:00',\n",
       "  'is_verified_purchase': True,\n",
       "  '_distance': 0.7440965016060754,\n",
       "  '_score': 0.25590349839392457},\n",
       " {'review_id': 'R006',\n",
       "  'order_id': 'O010',\n",
       "  'product_id': 'P005',\n",
       "  'customer_id': 'C009',\n",
       "  'rating': 5,\n",
       "  'product_name': '品牌:TechZen 类型:蓝牙耳机 商品名:SoundBuds Pro 2',\n",
       "  'review_content': 'SoundBuds音质很好，佩戴舒适，降噪效果不错，非常满意',\n",
       "  'review_content_vec': array([-0.03471835,  0.0601946 , -0.0186788 , ..., -0.0157928 ,\n",
       "          0.00084577,  0.00078907], dtype=float32),\n",
       "  'review_date': '2024-02-10 14:20:00',\n",
       "  'is_verified_purchase': True,\n",
       "  '_distance': 0.933538001830638,\n",
       "  '_score': 0.06646199816936205}]"
      ]
     },
     "execution_count": 74,
     "metadata": {},
     "output_type": "execute_result"
    }
   ],
   "source": [
    "pr_table.search(\"蓝牙连接问题\").filter({\"product_id\":{\"$eq\":\"P005\"}}).limit(10).to_list()"
   ]
  },
  {
   "cell_type": "code",
   "execution_count": null,
   "id": "d91ea8e3-69db-43e6-b4c9-25febd408ed3",
   "metadata": {},
   "outputs": [],
   "source": []
  }
 ],
 "metadata": {
  "kernelspec": {
   "display_name": "Python 3 (ipykernel)",
   "language": "python",
   "name": "python3"
  },
  "language_info": {
   "codemirror_mode": {
    "name": "ipython",
    "version": 3
   },
   "file_extension": ".py",
   "mimetype": "text/x-python",
   "name": "python",
   "nbconvert_exporter": "python",
   "pygments_lexer": "ipython3",
   "version": "3.10.14"
  }
 },
 "nbformat": 4,
 "nbformat_minor": 5
}
